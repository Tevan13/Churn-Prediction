{
 "cells": [
  {
   "cell_type": "code",
   "execution_count": 1,
   "id": "a9b1f1c9",
   "metadata": {},
   "outputs": [],
   "source": [
    "import pandas as pd\n",
    "import numpy as np\n",
    "import matplotlib.pyplot as plt\n",
    "import seaborn as sns\n",
    "plt.style.use('fivethirtyeight')\n",
    "import warnings\n",
    "warnings.filterwarnings('ignore')\n",
    "%matplotlib inline"
   ]
  },
  {
   "cell_type": "markdown",
   "id": "3fece6cf",
   "metadata": {},
   "source": [
    "# Baseline Model"
   ]
  },
  {
   "cell_type": "code",
   "execution_count": 2,
   "id": "43f87d8d",
   "metadata": {},
   "outputs": [],
   "source": [
    "from sklearn.model_selection import train_test_split\n",
    "from sklearn.metrics import accuracy_score, confusion_matrix,precision_score,recall_score,roc_auc_score,f1_score,plot_confusion_matrix,plot_roc_curve,roc_curve\n",
    "from sklearn.linear_model import LogisticRegression\n",
    "from sklearn.svm import SVC\n",
    "\n",
    "from sklearn.tree import DecisionTreeClassifier\n",
    "from xgboost import XGBClassifier\n",
    "from lightgbm import LGBMClassifier\n",
    "from catboost import CatBoostClassifier\n",
    "from sklearn import svm\n",
    "from sklearn.ensemble import RandomForestClassifier\n",
    "from sklearn.neighbors import KNeighborsClassifier\n",
    "\n",
    "from sklearn.linear_model import LogisticRegression\n",
    "from sklearn.tree import DecisionTreeClassifier\n",
    "from sklearn import preprocessing\n",
    "from sklearn import metrics\n",
    "from sklearn import decomposition, datasets\n",
    "from sklearn import tree"
   ]
  },
  {
   "cell_type": "code",
   "execution_count": 3,
   "id": "352766dc",
   "metadata": {},
   "outputs": [],
   "source": [
    "final_dataset = pd.read_csv('final_dataset.csv')"
   ]
  },
  {
   "cell_type": "code",
   "execution_count": 4,
   "id": "4ed5d676",
   "metadata": {},
   "outputs": [
    {
     "name": "stdout",
     "output_type": "stream",
     "text": [
      "<class 'pandas.core.frame.DataFrame'>\n",
      "RangeIndex: 50242 entries, 0 to 50241\n",
      "Data columns (total 14 columns):\n",
      " #   Column              Non-Null Count  Dtype \n",
      "---  ------              --------------  ----- \n",
      " 0   customer_id         50242 non-null  int64 \n",
      " 1   most_recent         50242 non-null  object\n",
      " 2   payment_method      50242 non-null  object\n",
      " 3   payment_status      50242 non-null  object\n",
      " 4   promo_amount        50242 non-null  int64 \n",
      " 5   monetary            50242 non-null  int64 \n",
      " 6   quantity            50242 non-null  int64 \n",
      " 7   recency             50242 non-null  int64 \n",
      " 8   frequency           50242 non-null  int64 \n",
      " 9   transaction_amount  50242 non-null  int64 \n",
      " 10  is_churn            50242 non-null  bool  \n",
      " 11  age                 50242 non-null  int64 \n",
      " 12  promo_amount_used   50242 non-null  int64 \n",
      " 13  total_amount_paid   50242 non-null  int64 \n",
      "dtypes: bool(1), int64(10), object(3)\n",
      "memory usage: 5.0+ MB\n"
     ]
    }
   ],
   "source": [
    "final_dataset.info()"
   ]
  },
  {
   "cell_type": "code",
   "execution_count": 5,
   "id": "a5210c64",
   "metadata": {
    "scrolled": true
   },
   "outputs": [],
   "source": [
    "# dataset2 = final_dataset[['customer_id', 'payment_method', 'payment_status', 'promo_amount', 'quantity', 'age', 'is_churn']]\n",
    "# dataset2 "
   ]
  },
  {
   "cell_type": "code",
   "execution_count": 6,
   "id": "b9200bf7",
   "metadata": {},
   "outputs": [],
   "source": [
    "from sklearn.preprocessing import LabelEncoder\n",
    "def object_to_int(dataframe_series):\n",
    "    if dataframe_series.dtype=='object':\n",
    "        dataframe_series = LabelEncoder().fit_transform(dataframe_series)\n",
    "    return dataframe_series"
   ]
  },
  {
   "cell_type": "code",
   "execution_count": 7,
   "id": "90346b8a",
   "metadata": {
    "scrolled": true
   },
   "outputs": [
    {
     "data": {
      "text/html": [
       "<div>\n",
       "<style scoped>\n",
       "    .dataframe tbody tr th:only-of-type {\n",
       "        vertical-align: middle;\n",
       "    }\n",
       "\n",
       "    .dataframe tbody tr th {\n",
       "        vertical-align: top;\n",
       "    }\n",
       "\n",
       "    .dataframe thead th {\n",
       "        text-align: right;\n",
       "    }\n",
       "</style>\n",
       "<table border=\"1\" class=\"dataframe\">\n",
       "  <thead>\n",
       "    <tr style=\"text-align: right;\">\n",
       "      <th></th>\n",
       "      <th>customer_id</th>\n",
       "      <th>most_recent</th>\n",
       "      <th>payment_method</th>\n",
       "      <th>payment_status</th>\n",
       "      <th>promo_amount</th>\n",
       "      <th>monetary</th>\n",
       "      <th>quantity</th>\n",
       "      <th>recency</th>\n",
       "      <th>frequency</th>\n",
       "      <th>transaction_amount</th>\n",
       "      <th>is_churn</th>\n",
       "      <th>age</th>\n",
       "      <th>promo_amount_used</th>\n",
       "      <th>total_amount_paid</th>\n",
       "    </tr>\n",
       "  </thead>\n",
       "  <tbody>\n",
       "    <tr>\n",
       "      <th>0</th>\n",
       "      <td>3</td>\n",
       "      <td>26</td>\n",
       "      <td>0</td>\n",
       "      <td>0</td>\n",
       "      <td>8073</td>\n",
       "      <td>826597</td>\n",
       "      <td>5</td>\n",
       "      <td>30</td>\n",
       "      <td>69</td>\n",
       "      <td>1</td>\n",
       "      <td>False</td>\n",
       "      <td>36</td>\n",
       "      <td>3</td>\n",
       "      <td>3</td>\n",
       "    </tr>\n",
       "    <tr>\n",
       "      <th>1</th>\n",
       "      <td>8</td>\n",
       "      <td>56</td>\n",
       "      <td>0</td>\n",
       "      <td>0</td>\n",
       "      <td>7699</td>\n",
       "      <td>223431</td>\n",
       "      <td>1</td>\n",
       "      <td>61</td>\n",
       "      <td>8</td>\n",
       "      <td>1</td>\n",
       "      <td>False</td>\n",
       "      <td>22</td>\n",
       "      <td>3</td>\n",
       "      <td>1</td>\n",
       "    </tr>\n",
       "    <tr>\n",
       "      <th>2</th>\n",
       "      <td>9</td>\n",
       "      <td>60</td>\n",
       "      <td>2</td>\n",
       "      <td>0</td>\n",
       "      <td>0</td>\n",
       "      <td>643165</td>\n",
       "      <td>1</td>\n",
       "      <td>61</td>\n",
       "      <td>8</td>\n",
       "      <td>2</td>\n",
       "      <td>False</td>\n",
       "      <td>16</td>\n",
       "      <td>1</td>\n",
       "      <td>3</td>\n",
       "    </tr>\n",
       "    <tr>\n",
       "      <th>3</th>\n",
       "      <td>11</td>\n",
       "      <td>69</td>\n",
       "      <td>4</td>\n",
       "      <td>0</td>\n",
       "      <td>9492</td>\n",
       "      <td>197533</td>\n",
       "      <td>1</td>\n",
       "      <td>122</td>\n",
       "      <td>1</td>\n",
       "      <td>1</td>\n",
       "      <td>False</td>\n",
       "      <td>29</td>\n",
       "      <td>3</td>\n",
       "      <td>1</td>\n",
       "    </tr>\n",
       "    <tr>\n",
       "      <th>4</th>\n",
       "      <td>15</td>\n",
       "      <td>39</td>\n",
       "      <td>3</td>\n",
       "      <td>0</td>\n",
       "      <td>0</td>\n",
       "      <td>1078094</td>\n",
       "      <td>1</td>\n",
       "      <td>181</td>\n",
       "      <td>9</td>\n",
       "      <td>5</td>\n",
       "      <td>False</td>\n",
       "      <td>39</td>\n",
       "      <td>1</td>\n",
       "      <td>4</td>\n",
       "    </tr>\n",
       "  </tbody>\n",
       "</table>\n",
       "</div>"
      ],
      "text/plain": [
       "   customer_id  most_recent  payment_method  payment_status  promo_amount  \\\n",
       "0            3           26               0               0          8073   \n",
       "1            8           56               0               0          7699   \n",
       "2            9           60               2               0             0   \n",
       "3           11           69               4               0          9492   \n",
       "4           15           39               3               0             0   \n",
       "\n",
       "   monetary  quantity  recency  frequency  transaction_amount  is_churn  age  \\\n",
       "0    826597         5       30         69                   1     False   36   \n",
       "1    223431         1       61          8                   1     False   22   \n",
       "2    643165         1       61          8                   2     False   16   \n",
       "3    197533         1      122          1                   1     False   29   \n",
       "4   1078094         1      181          9                   5     False   39   \n",
       "\n",
       "   promo_amount_used  total_amount_paid  \n",
       "0                  3                  3  \n",
       "1                  3                  1  \n",
       "2                  1                  3  \n",
       "3                  3                  1  \n",
       "4                  1                  4  "
      ]
     },
     "execution_count": 7,
     "metadata": {},
     "output_type": "execute_result"
    }
   ],
   "source": [
    "final_dataset = final_dataset.apply(lambda x: object_to_int(x))\n",
    "final_dataset.head()"
   ]
  },
  {
   "cell_type": "code",
   "execution_count": 8,
   "id": "36bef678",
   "metadata": {
    "scrolled": true
   },
   "outputs": [
    {
     "data": {
      "text/plain": [
       "array([0, 1], dtype=int64)"
      ]
     },
     "execution_count": 8,
     "metadata": {},
     "output_type": "execute_result"
    }
   ],
   "source": [
    "labelencoder = LabelEncoder()\n",
    "final_dataset['is_churn'] = labelencoder.fit_transform(final_dataset['is_churn'])\n",
    "final_dataset['is_churn'].unique()"
   ]
  },
  {
   "cell_type": "code",
   "execution_count": 9,
   "id": "846a28de",
   "metadata": {
    "scrolled": true
   },
   "outputs": [
    {
     "data": {
      "text/html": [
       "<div>\n",
       "<style scoped>\n",
       "    .dataframe tbody tr th:only-of-type {\n",
       "        vertical-align: middle;\n",
       "    }\n",
       "\n",
       "    .dataframe tbody tr th {\n",
       "        vertical-align: top;\n",
       "    }\n",
       "\n",
       "    .dataframe thead th {\n",
       "        text-align: right;\n",
       "    }\n",
       "</style>\n",
       "<table border=\"1\" class=\"dataframe\">\n",
       "  <thead>\n",
       "    <tr style=\"text-align: right;\">\n",
       "      <th></th>\n",
       "      <th>customer_id</th>\n",
       "      <th>most_recent</th>\n",
       "      <th>payment_method</th>\n",
       "      <th>payment_status</th>\n",
       "      <th>promo_amount</th>\n",
       "      <th>monetary</th>\n",
       "      <th>quantity</th>\n",
       "      <th>recency</th>\n",
       "      <th>frequency</th>\n",
       "      <th>transaction_amount</th>\n",
       "      <th>is_churn</th>\n",
       "      <th>age</th>\n",
       "      <th>promo_amount_used</th>\n",
       "      <th>total_amount_paid</th>\n",
       "    </tr>\n",
       "  </thead>\n",
       "  <tbody>\n",
       "    <tr>\n",
       "      <th>0</th>\n",
       "      <td>3</td>\n",
       "      <td>26</td>\n",
       "      <td>0</td>\n",
       "      <td>0</td>\n",
       "      <td>8073</td>\n",
       "      <td>826597</td>\n",
       "      <td>5</td>\n",
       "      <td>30</td>\n",
       "      <td>69</td>\n",
       "      <td>1</td>\n",
       "      <td>0</td>\n",
       "      <td>36</td>\n",
       "      <td>3</td>\n",
       "      <td>3</td>\n",
       "    </tr>\n",
       "    <tr>\n",
       "      <th>1</th>\n",
       "      <td>8</td>\n",
       "      <td>56</td>\n",
       "      <td>0</td>\n",
       "      <td>0</td>\n",
       "      <td>7699</td>\n",
       "      <td>223431</td>\n",
       "      <td>1</td>\n",
       "      <td>61</td>\n",
       "      <td>8</td>\n",
       "      <td>1</td>\n",
       "      <td>0</td>\n",
       "      <td>22</td>\n",
       "      <td>3</td>\n",
       "      <td>1</td>\n",
       "    </tr>\n",
       "    <tr>\n",
       "      <th>2</th>\n",
       "      <td>9</td>\n",
       "      <td>60</td>\n",
       "      <td>2</td>\n",
       "      <td>0</td>\n",
       "      <td>0</td>\n",
       "      <td>643165</td>\n",
       "      <td>1</td>\n",
       "      <td>61</td>\n",
       "      <td>8</td>\n",
       "      <td>2</td>\n",
       "      <td>0</td>\n",
       "      <td>16</td>\n",
       "      <td>1</td>\n",
       "      <td>3</td>\n",
       "    </tr>\n",
       "    <tr>\n",
       "      <th>3</th>\n",
       "      <td>11</td>\n",
       "      <td>69</td>\n",
       "      <td>4</td>\n",
       "      <td>0</td>\n",
       "      <td>9492</td>\n",
       "      <td>197533</td>\n",
       "      <td>1</td>\n",
       "      <td>122</td>\n",
       "      <td>1</td>\n",
       "      <td>1</td>\n",
       "      <td>0</td>\n",
       "      <td>29</td>\n",
       "      <td>3</td>\n",
       "      <td>1</td>\n",
       "    </tr>\n",
       "    <tr>\n",
       "      <th>4</th>\n",
       "      <td>15</td>\n",
       "      <td>39</td>\n",
       "      <td>3</td>\n",
       "      <td>0</td>\n",
       "      <td>0</td>\n",
       "      <td>1078094</td>\n",
       "      <td>1</td>\n",
       "      <td>181</td>\n",
       "      <td>9</td>\n",
       "      <td>5</td>\n",
       "      <td>0</td>\n",
       "      <td>39</td>\n",
       "      <td>1</td>\n",
       "      <td>4</td>\n",
       "    </tr>\n",
       "  </tbody>\n",
       "</table>\n",
       "</div>"
      ],
      "text/plain": [
       "   customer_id  most_recent  payment_method  payment_status  promo_amount  \\\n",
       "0            3           26               0               0          8073   \n",
       "1            8           56               0               0          7699   \n",
       "2            9           60               2               0             0   \n",
       "3           11           69               4               0          9492   \n",
       "4           15           39               3               0             0   \n",
       "\n",
       "   monetary  quantity  recency  frequency  transaction_amount  is_churn  age  \\\n",
       "0    826597         5       30         69                   1         0   36   \n",
       "1    223431         1       61          8                   1         0   22   \n",
       "2    643165         1       61          8                   2         0   16   \n",
       "3    197533         1      122          1                   1         0   29   \n",
       "4   1078094         1      181          9                   5         0   39   \n",
       "\n",
       "   promo_amount_used  total_amount_paid  \n",
       "0                  3                  3  \n",
       "1                  3                  1  \n",
       "2                  1                  3  \n",
       "3                  3                  1  \n",
       "4                  1                  4  "
      ]
     },
     "execution_count": 9,
     "metadata": {},
     "output_type": "execute_result"
    }
   ],
   "source": [
    "final_dataset = final_dataset.apply(lambda x: object_to_int(x))\n",
    "final_dataset.head()"
   ]
  },
  {
   "cell_type": "code",
   "execution_count": 10,
   "id": "a50a234d",
   "metadata": {
    "scrolled": true
   },
   "outputs": [
    {
     "data": {
      "text/plain": [
       "array([0, 1], dtype=int64)"
      ]
     },
     "execution_count": 10,
     "metadata": {},
     "output_type": "execute_result"
    }
   ],
   "source": [
    "labelencoder = LabelEncoder()\n",
    "final_dataset['is_churn'] = labelencoder.fit_transform(final_dataset['is_churn'])\n",
    "final_dataset['is_churn'].unique()"
   ]
  },
  {
   "cell_type": "code",
   "execution_count": 11,
   "id": "2cc746b6",
   "metadata": {
    "scrolled": false
   },
   "outputs": [
    {
     "data": {
      "text/plain": [
       "<AxesSubplot:ylabel='is_churn'>"
      ]
     },
     "execution_count": 11,
     "metadata": {},
     "output_type": "execute_result"
    },
    {
     "data": {
      "image/png": "[encoded data removed]",
      "text/plain": [
       "<Figure size 432x288 with 1 Axes>"
      ]
     },
     "metadata": {},
     "output_type": "display_data"
    }
   ],
   "source": [
    "final_dataset['is_churn'].value_counts().plot.pie(autopct='%1.1f%%')"
   ]
  },
  {
   "cell_type": "markdown",
   "id": "7af83713",
   "metadata": {},
   "source": [
    "# Feature Selection"
   ]
  },
  {
   "cell_type": "code",
   "execution_count": 12,
   "id": "ac0323ee",
   "metadata": {},
   "outputs": [],
   "source": [
    "X = final_dataset[['customer_id', 'most_recent', 'payment_method', 'payment_status', 'promo_amount', 'monetary', \n",
    "                   'quantity', 'recency', 'frequency', 'transaction_amount', 'age', 'promo_amount_used', 'total_amount_paid']]\n",
    "y = final_dataset[[\"is_churn\"]]"
   ]
  },
  {
   "cell_type": "code",
   "execution_count": 13,
   "id": "08b6f2b4",
   "metadata": {},
   "outputs": [
    {
     "name": "stdout",
     "output_type": "stream",
     "text": [
      "Jumlah data training:  (35169, 13)\n",
      "Jumlah data testing:  (15073, 13)\n"
     ]
    }
   ],
   "source": [
    "from sklearn.model_selection import train_test_split\n",
    "\n",
    "X_train, X_test, y_train, y_test = train_test_split(X, y, random_state=100, test_size=0.3)\n",
    "print(\"Jumlah data training: \", X_train.shape)\n",
    "print(\"Jumlah data testing: \", X_test.shape)"
   ]
  },
  {
   "cell_type": "code",
   "execution_count": 14,
   "id": "d40d227e",
   "metadata": {},
   "outputs": [],
   "source": [
    "def calc_iv(df, feature, target, pr=False):\n",
    "    \n",
    "    lst = []\n",
    "\n",
    "    df[feature] = df[feature].fillna(\"NULL\")\n",
    "\n",
    "    for i in range(df[feature].nunique()):\n",
    "        val = list(df[feature].unique())[i]\n",
    "        lst.append([feature,                                                        # Variable\n",
    "                    val,                                                            # Value\n",
    "                    df[df[feature] == val].count()[feature],                        # All\n",
    "                    df[(df[feature] == val) & (df[target] == 0)].count()[feature],  # Good (think: Fraud == 0)\n",
    "                    df[(df[feature] == val) & (df[target] == 1)].count()[feature]]) # Bad (think: Fraud == 1)\n",
    "\n",
    "    data = pd.DataFrame(lst, columns=['Variable', 'Value', 'All', 'Good', 'Bad'])\n",
    "\n",
    "    data['Share'] = data['All'] / data['All'].sum()\n",
    "    data['Bad Rate'] = data['Bad'] / data['All']\n",
    "    data['Distribution Good'] = (data['All'] - data['Bad']) / (data['All'].sum() - data['Bad'].sum())\n",
    "    data['Distribution Bad'] = data['Bad'] / data['Bad'].sum()\n",
    "    data['WoE'] = np.log(data['Distribution Good'] / data['Distribution Bad'])\n",
    "\n",
    "    data = data.replace({'WoE': {np.inf: 0, -np.inf: 0}})\n",
    "\n",
    "    data['IV'] = data['WoE'] * (data['Distribution Good'] - data['Distribution Bad'])\n",
    "\n",
    "    data = data.sort_values(by=['Variable', 'Value'], ascending=[True, True])\n",
    "    data.index = range(len(data.index))\n",
    "\n",
    "    if pr:\n",
    "        print(data)\n",
    "        print('IV = ', data['IV'].sum())\n",
    "\n",
    "    iv = data['IV'].sum()\n",
    "\n",
    "    return iv, data"
   ]
  },
  {
   "cell_type": "code",
   "execution_count": 15,
   "id": "de4b827b",
   "metadata": {},
   "outputs": [
    {
     "data": {
      "text/html": [
       "<div>\n",
       "<style scoped>\n",
       "    .dataframe tbody tr th:only-of-type {\n",
       "        vertical-align: middle;\n",
       "    }\n",
       "\n",
       "    .dataframe tbody tr th {\n",
       "        vertical-align: top;\n",
       "    }\n",
       "\n",
       "    .dataframe thead th {\n",
       "        text-align: right;\n",
       "    }\n",
       "</style>\n",
       "<table border=\"1\" class=\"dataframe\">\n",
       "  <thead>\n",
       "    <tr style=\"text-align: right;\">\n",
       "      <th></th>\n",
       "      <th>Feature</th>\n",
       "      <th>iv</th>\n",
       "    </tr>\n",
       "  </thead>\n",
       "  <tbody>\n",
       "    <tr>\n",
       "      <th>0</th>\n",
       "      <td>customer_id</td>\n",
       "      <td>0.0</td>\n",
       "    </tr>\n",
       "    <tr>\n",
       "      <th>1</th>\n",
       "      <td>most_recent</td>\n",
       "      <td>0.348774</td>\n",
       "    </tr>\n",
       "    <tr>\n",
       "      <th>2</th>\n",
       "      <td>payment_method</td>\n",
       "      <td>0.001303</td>\n",
       "    </tr>\n",
       "    <tr>\n",
       "      <th>3</th>\n",
       "      <td>payment_status</td>\n",
       "      <td>0.0</td>\n",
       "    </tr>\n",
       "    <tr>\n",
       "      <th>4</th>\n",
       "      <td>promo_amount</td>\n",
       "      <td>0.110873</td>\n",
       "    </tr>\n",
       "    <tr>\n",
       "      <th>5</th>\n",
       "      <td>monetary</td>\n",
       "      <td>0.015222</td>\n",
       "    </tr>\n",
       "    <tr>\n",
       "      <th>6</th>\n",
       "      <td>quantity</td>\n",
       "      <td>0.002722</td>\n",
       "    </tr>\n",
       "    <tr>\n",
       "      <th>7</th>\n",
       "      <td>recency</td>\n",
       "      <td>0.352014</td>\n",
       "    </tr>\n",
       "    <tr>\n",
       "      <th>8</th>\n",
       "      <td>frequency</td>\n",
       "      <td>2.379952</td>\n",
       "    </tr>\n",
       "    <tr>\n",
       "      <th>9</th>\n",
       "      <td>transaction_amount</td>\n",
       "      <td>0.002525</td>\n",
       "    </tr>\n",
       "    <tr>\n",
       "      <th>10</th>\n",
       "      <td>age</td>\n",
       "      <td>0.006056</td>\n",
       "    </tr>\n",
       "    <tr>\n",
       "      <th>11</th>\n",
       "      <td>promo_amount_used</td>\n",
       "      <td>0.01186</td>\n",
       "    </tr>\n",
       "    <tr>\n",
       "      <th>12</th>\n",
       "      <td>total_amount_paid</td>\n",
       "      <td>0.000714</td>\n",
       "    </tr>\n",
       "  </tbody>\n",
       "</table>\n",
       "</div>"
      ],
      "text/plain": [
       "               Feature        iv\n",
       "0          customer_id       0.0\n",
       "1          most_recent  0.348774\n",
       "2       payment_method  0.001303\n",
       "3       payment_status       0.0\n",
       "4         promo_amount  0.110873\n",
       "5             monetary  0.015222\n",
       "6             quantity  0.002722\n",
       "7              recency  0.352014\n",
       "8            frequency  2.379952\n",
       "9   transaction_amount  0.002525\n",
       "10                 age  0.006056\n",
       "11   promo_amount_used   0.01186\n",
       "12   total_amount_paid  0.000714"
      ]
     },
     "execution_count": 15,
     "metadata": {},
     "output_type": "execute_result"
    }
   ],
   "source": [
    "iv_df = X_train.copy()\n",
    "iv_df[\"target\"] = y_train\n",
    "\n",
    "features = iv_df.columns[:-1].tolist()\n",
    "\n",
    "iv_list = []\n",
    "for feature in features:\n",
    "    iv, data = calc_iv(iv_df, feature, 'target')\n",
    "    iv_list.append(round(iv,6))\n",
    "\n",
    "woe_df = pd.DataFrame(np.column_stack([features, iv_list]), \n",
    "                      columns=['Feature', 'iv'])\n",
    "woe_df"
   ]
  },
  {
   "cell_type": "markdown",
   "id": "e63171db",
   "metadata": {},
   "source": [
    "## Logistic Regression"
   ]
  },
  {
   "cell_type": "code",
   "execution_count": 63,
   "id": "6606009c",
   "metadata": {},
   "outputs": [],
   "source": [
    "X = final_dataset[['customer_id', 'most_recent', 'payment_method', 'payment_status', 'promo_amount', 'monetary', \n",
    "                 'quantity', 'frequency', 'transaction_amount', 'age', 'promo_amount_used', 'total_amount_paid']]\n",
    "y = final_dataset['is_churn']\n",
    "# X = dataset2[['customer_id', 'payment_method', 'payment_status', 'promo_amount', \n",
    "#                  'quantity', 'age']]\n",
    "# y = dataset2['is_churn']"
   ]
  },
  {
   "cell_type": "code",
   "execution_count": 64,
   "id": "e7e762a8",
   "metadata": {},
   "outputs": [],
   "source": [
    "X_train, X_test, y_train, y_test = train_test_split(X,y, test_size=0.3, random_state=100)"
   ]
  },
  {
   "cell_type": "code",
   "execution_count": 65,
   "id": "a7216950",
   "metadata": {},
   "outputs": [],
   "source": [
    "clf = LogisticRegression()"
   ]
  },
  {
   "cell_type": "code",
   "execution_count": 66,
   "id": "e3148eb7",
   "metadata": {},
   "outputs": [
    {
     "data": {
      "text/plain": [
       "LogisticRegression()"
      ]
     },
     "execution_count": 66,
     "metadata": {},
     "output_type": "execute_result"
    }
   ],
   "source": [
    "clf.fit(X_train, y_train)"
   ]
  },
  {
   "cell_type": "code",
   "execution_count": 67,
   "id": "98d2e45f",
   "metadata": {},
   "outputs": [],
   "source": [
    "y_pred = clf.predict(X_test)"
   ]
  },
  {
   "cell_type": "code",
   "execution_count": 68,
   "id": "8ffa974e",
   "metadata": {},
   "outputs": [
    {
     "data": {
      "text/plain": [
       "0.7644795329396935"
      ]
     },
     "execution_count": 68,
     "metadata": {},
     "output_type": "execute_result"
    }
   ],
   "source": [
    "clf.score(X_test, y_test)"
   ]
  },
  {
   "cell_type": "code",
   "execution_count": 69,
   "id": "104958f0",
   "metadata": {},
   "outputs": [
    {
     "name": "stdout",
     "output_type": "stream",
     "text": [
      "              precision    recall  f1-score   support\n",
      "\n",
      "           0       0.93      0.76      0.84     11988\n",
      "           1       0.46      0.77      0.57      3085\n",
      "\n",
      "    accuracy                           0.76     15073\n",
      "   macro avg       0.69      0.77      0.70     15073\n",
      "weighted avg       0.83      0.76      0.78     15073\n",
      "\n"
     ]
    }
   ],
   "source": [
    "from sklearn.metrics import classification_report\n",
    "print(classification_report(y_pred, y_test))"
   ]
  },
  {
   "cell_type": "code",
   "execution_count": 70,
   "id": "6eafa01b",
   "metadata": {},
   "outputs": [
    {
     "data": {
      "image/png": "[encoded data removed]",
      "text/plain": [
       "<Figure size 288x216 with 2 Axes>"
      ]
     },
     "metadata": {
      "needs_background": "light"
     },
     "output_type": "display_data"
    }
   ],
   "source": [
    "from sklearn.metrics import confusion_matrix\n",
    "plt.figure(figsize=(4,3))\n",
    "sns.heatmap(confusion_matrix(y_test, y_pred),\n",
    "                annot=True,fmt = \"d\",linecolor=\"k\",linewidths=3)\n",
    "    \n",
    "plt.title(\"Logistic Regression Confusion Matrix\",fontsize=14)\n",
    "plt.show()"
   ]
  },
  {
   "cell_type": "code",
   "execution_count": 71,
   "id": "09554001",
   "metadata": {},
   "outputs": [
    {
     "data": {
      "image/png": "[encoded data removed]",
      "text/plain": [
       "<Figure size 432x288 with 1 Axes>"
      ]
     },
     "metadata": {
      "needs_background": "light"
     },
     "output_type": "display_data"
    }
   ],
   "source": [
    "from sklearn.metrics import roc_curve\n",
    "y_lgrpred_prob = clf.predict_proba(X_test)[:,1]\n",
    "fpr_rf, tpr_rf, thresholds = roc_curve(y_test, y_lgrpred_prob)\n",
    "plt.plot([0, 1], [0, 1], 'k--' )\n",
    "plt.plot(fpr_rf, tpr_rf, label='Logistic Regression',color = \"r\")\n",
    "plt.xlabel('False Positive Rate')\n",
    "plt.ylabel('True Positive Rate')\n",
    "plt.title('Logistic Regression ROC Curve',fontsize=16)\n",
    "plt.show();"
   ]
  },
  {
   "cell_type": "markdown",
   "id": "c59a1da3",
   "metadata": {},
   "source": [
    "## Decision Tree"
   ]
  },
  {
   "cell_type": "code",
   "execution_count": 25,
   "id": "01f797c8",
   "metadata": {},
   "outputs": [],
   "source": [
    "X = final_dataset[['customer_id', 'most_recent', 'payment_method', 'payment_status', 'promo_amount', 'monetary', \n",
    "                 'quantity', 'frequency', 'transaction_amount', 'age', 'promo_amount_used', 'total_amount_paid']]\n",
    "y = final_dataset['is_churn']\n",
    "# X = dataset2[['customer_id', 'payment_method', 'payment_status', 'promo_amount', \n",
    "#                  'quantity', 'age']]\n",
    "# y = dataset2['is_churn']"
   ]
  },
  {
   "cell_type": "code",
   "execution_count": 26,
   "id": "4485d66e",
   "metadata": {},
   "outputs": [],
   "source": [
    "X_train, X_test, y_train, y_test = train_test_split(X,y, test_size=0.3, random_state=100)"
   ]
  },
  {
   "cell_type": "code",
   "execution_count": 27,
   "id": "d795be68",
   "metadata": {},
   "outputs": [
    {
     "data": {
      "text/plain": [
       "0.9432760565249121"
      ]
     },
     "execution_count": 27,
     "metadata": {},
     "output_type": "execute_result"
    }
   ],
   "source": [
    "# Fit Decision Tree Model\n",
    "regr = DecisionTreeClassifier()\n",
    "regr.fit(X_train, y_train)\n",
    "\n",
    "# Predict\n",
    "y_pred_dt = regr.predict(X_test)\n",
    "regr.score(X_test, y_test)"
   ]
  },
  {
   "cell_type": "code",
   "execution_count": 28,
   "id": "2699ba33",
   "metadata": {},
   "outputs": [
    {
     "name": "stdout",
     "output_type": "stream",
     "text": [
      "              precision    recall  f1-score   support\n",
      "\n",
      "           0       0.95      0.96      0.96      9811\n",
      "           1       0.92      0.91      0.92      5262\n",
      "\n",
      "    accuracy                           0.94     15073\n",
      "   macro avg       0.94      0.94      0.94     15073\n",
      "weighted avg       0.94      0.94      0.94     15073\n",
      "\n"
     ]
    }
   ],
   "source": [
    "from sklearn.metrics import classification_report\n",
    "print(classification_report(y_pred_dt, y_test))"
   ]
  },
  {
   "cell_type": "code",
   "execution_count": 29,
   "id": "9ddef2fa",
   "metadata": {},
   "outputs": [
    {
     "data": {
      "image/png": "[encoded data removed]",
      "text/plain": [
       "<Figure size 288x216 with 2 Axes>"
      ]
     },
     "metadata": {
      "needs_background": "light"
     },
     "output_type": "display_data"
    }
   ],
   "source": [
    "from sklearn.metrics import confusion_matrix\n",
    "plt.figure(figsize=(4,3))\n",
    "sns.heatmap(confusion_matrix(y_test, y_pred_dt),\n",
    "                annot=True,fmt = \"d\",linecolor=\"k\",linewidths=3)\n",
    "    \n",
    "plt.title(\"Decision Tree Confusion Matrix\",fontsize=14)\n",
    "plt.show()"
   ]
  },
  {
   "cell_type": "code",
   "execution_count": 30,
   "id": "0b2ef398",
   "metadata": {},
   "outputs": [
    {
     "data": {
      "image/png": "[encoded data removed]",
      "text/plain": [
       "<Figure size 432x288 with 1 Axes>"
      ]
     },
     "metadata": {
      "needs_background": "light"
     },
     "output_type": "display_data"
    }
   ],
   "source": [
    "from sklearn.metrics import roc_curve\n",
    "y_dtpred_prob = regr.predict_proba(X_test)[:,1]\n",
    "fpr_rf, tpr_rf, thresholds = roc_curve(y_test, y_dtpred_prob)\n",
    "plt.plot([0, 1], [0, 1], 'k--' )\n",
    "plt.plot(fpr_rf, tpr_rf, label='Decistion Tree',color = \"r\")\n",
    "plt.xlabel('False Positive Rate')\n",
    "plt.ylabel('True Positive Rate')\n",
    "plt.title('Decistion Tree ROC Curve',fontsize=16)\n",
    "plt.show();"
   ]
  },
  {
   "cell_type": "markdown",
   "id": "4af64786",
   "metadata": {},
   "source": [
    "## Random Forest"
   ]
  },
  {
   "cell_type": "code",
   "execution_count": 31,
   "id": "f70cac08",
   "metadata": {},
   "outputs": [
    {
     "data": {
      "text/plain": [
       "0.860412658395807"
      ]
     },
     "execution_count": 31,
     "metadata": {},
     "output_type": "execute_result"
    }
   ],
   "source": [
    "from sklearn.ensemble import RandomForestClassifier\n",
    "\n",
    "X = final_dataset[['customer_id', 'most_recent', 'payment_method', 'payment_status', 'promo_amount', 'monetary', \n",
    "                 'quantity', 'frequency', 'transaction_amount', 'age', 'promo_amount_used', 'total_amount_paid']]\n",
    "y = final_dataset['is_churn']\n",
    "# X = dataset2[['customer_id', 'payment_method', 'payment_status', 'promo_amount', \n",
    "#                  'quantity', 'age']]\n",
    "# y = dataset2['is_churn']\n",
    "\n",
    "X_train, X_test, y_train, y_test = train_test_split(X,y, test_size=0.3, random_state=100)\n",
    "\n",
    "\n",
    "# Fit Regression Model\n",
    "rfc = RandomForestClassifier(max_depth=2)\n",
    "rfc.fit(X_train, y_train)\n",
    "\n",
    "# Predict\n",
    "y_pred_rf = rfc.predict(X_test)\n",
    "rfc.score(X_test, y_test)"
   ]
  },
  {
   "cell_type": "code",
   "execution_count": 32,
   "id": "f12c709b",
   "metadata": {},
   "outputs": [
    {
     "name": "stdout",
     "output_type": "stream",
     "text": [
      "              precision    recall  f1-score   support\n",
      "\n",
      "           0       0.99      0.83      0.90     11788\n",
      "           1       0.61      0.97      0.75      3285\n",
      "\n",
      "    accuracy                           0.86     15073\n",
      "   macro avg       0.80      0.90      0.83     15073\n",
      "weighted avg       0.91      0.86      0.87     15073\n",
      "\n"
     ]
    }
   ],
   "source": [
    "from sklearn.metrics import classification_report\n",
    "print(classification_report(y_pred_rf, y_test))"
   ]
  },
  {
   "cell_type": "code",
   "execution_count": 75,
   "id": "5c9deacf",
   "metadata": {},
   "outputs": [
    {
     "data": {
      "image/png": "[encoded data removed]",
      "text/plain": [
       "<Figure size 288x216 with 2 Axes>"
      ]
     },
     "metadata": {
      "needs_background": "light"
     },
     "output_type": "display_data"
    }
   ],
   "source": [
    "from sklearn.metrics import confusion_matrix\n",
    "\n",
    "plt.figure(figsize=(4,3))\n",
    "sns.heatmap(confusion_matrix(y_test, y_pred_rf),\n",
    "                annot=True,fmt = \"d\",linecolor=\"k\",linewidths=3)\n",
    "    \n",
    "plt.title(\"Random Forest Matrix\",fontsize=14)\n",
    "plt.show()"
   ]
  },
  {
   "cell_type": "code",
   "execution_count": 34,
   "id": "9219dc1c",
   "metadata": {},
   "outputs": [
    {
     "data": {
      "image/png": "[encoded data removed]",
      "text/plain": [
       "<Figure size 432x288 with 1 Axes>"
      ]
     },
     "metadata": {
      "needs_background": "light"
     },
     "output_type": "display_data"
    }
   ],
   "source": [
    "from sklearn.metrics import roc_curve\n",
    "y_rfpred_prob = rfc.predict_proba(X_test)[:,1]\n",
    "fpr_rf, tpr_rf, thresholds = roc_curve(y_test, y_rfpred_prob)\n",
    "plt.plot([0, 1], [0, 1], 'k--' )\n",
    "plt.plot(fpr_rf, tpr_rf, label='Random Forest',color = \"r\")\n",
    "plt.xlabel('False Positive Rate')\n",
    "plt.ylabel('True Positive Rate')\n",
    "plt.title('Random Forest ROC Curve',fontsize=16)\n",
    "plt.show();"
   ]
  },
  {
   "cell_type": "markdown",
   "id": "d9265c4a",
   "metadata": {},
   "source": [
    "# Hyper Tuning Paramaters"
   ]
  },
  {
   "cell_type": "markdown",
   "id": "e43158b8",
   "metadata": {},
   "source": [
    "## Logistic Regression"
   ]
  },
  {
   "cell_type": "code",
   "execution_count": 76,
   "id": "a208f637",
   "metadata": {},
   "outputs": [
    {
     "name": "stdout",
     "output_type": "stream",
     "text": [
      "AUC Score : 0.9256446466818902 \n",
      " Best Paramaters: {'logreg__C': 1e-05, 'logreg__class_weight': <class 'dict'>, 'logreg__penalty': 'none'}\n"
     ]
    }
   ],
   "source": [
    "#Logistic Regression\n",
    "# Build the steps\n",
    "from sklearn.preprocessing import StandardScaler\n",
    "from sklearn.pipeline import Pipeline\n",
    "from sklearn.model_selection import GridSearchCV\n",
    "steps = [(\"scaler\", StandardScaler()),\n",
    "         (\"logreg\", LogisticRegression())]\n",
    "pipeline = Pipeline(steps)\n",
    "\n",
    "# Create the parameter space\n",
    "parameters = {\"logreg__C\": np.logspace(-5, 8, 15),\n",
    "              \"logreg__class_weight\": [dict, 'balanced'],\n",
    "              \"logreg__penalty\": ['l1', 'l2', 'elasticnet', 'none']}\n",
    "X_train, X_test, y_train, y_test = train_test_split(X, y, test_size=0.3, \n",
    "                                                    random_state=100)\n",
    "\n",
    "# Instantiate the grid search object\n",
    "cv = GridSearchCV(pipeline, param_grid=parameters)\n",
    "\n",
    "# Fit to the training data\n",
    "cv.fit(X_train, y_train)\n",
    "print(\"AUC Score :\",cv.best_score_, \"\\n\",\"Best Paramaters:\",cv.best_params_)\n"
   ]
  },
  {
   "cell_type": "code",
   "execution_count": 77,
   "id": "9dd3aa2e",
   "metadata": {},
   "outputs": [
    {
     "name": "stdout",
     "output_type": "stream",
     "text": [
      "AUC Score : 0.925047486238259 \n",
      " Best Paramaters: {'logreg__dual': True, 'logreg__fit_intercept': True, 'logreg__solver': 'liblinear', 'logreg__warm_start': False}\n"
     ]
    }
   ],
   "source": [
    "# Create the parameter space\n",
    "parameters = {\"logreg__solver\": ['newton-cg', 'lbfgs', 'liblinear', 'sag', 'saga'],\n",
    "              \"logreg__warm_start\": [True, False],\n",
    "              \"logreg__fit_intercept\": [True, False],\n",
    "              \"logreg__dual\": [True, False]}\n",
    "X_train, X_test, y_train, y_test = train_test_split(X, y, test_size=0.3, \n",
    "                                                    random_state=100)\n",
    "\n",
    "# Instantiate the grid search object\n",
    "cv = GridSearchCV(pipeline, param_grid=parameters)\n",
    "\n",
    "# Fit to the training data\n",
    "cv.fit(X_train, y_train)\n",
    "print(\"AUC Score :\",cv.best_score_, \"\\n\",\"Best Paramaters:\",cv.best_params_)\n",
    "y_pred_rf = rfc.predict(X_test)"
   ]
  },
  {
   "cell_type": "code",
   "execution_count": 74,
   "id": "56d84dae",
   "metadata": {},
   "outputs": [
    {
     "data": {
      "text/plain": [
       "0.6540171166987329"
      ]
     },
     "execution_count": 74,
     "metadata": {},
     "output_type": "execute_result"
    }
   ],
   "source": [
    "model_new = LogisticRegression(C = 1e-05, class_weight = dict, penalty = 'none', \n",
    "                               dual = False, fit_intercept = True, solver = 'saga', \n",
    "                               warm_start = True)\n",
    "model_new.fit(X_train, y_train)\n",
    "model_new.predict(X_test)\n",
    "model_new.score(X_test, y_test)"
   ]
  },
  {
   "cell_type": "code",
   "execution_count": 38,
   "id": "f7103e45",
   "metadata": {},
   "outputs": [
    {
     "name": "stdout",
     "output_type": "stream",
     "text": [
      "              precision    recall  f1-score   support\n",
      "\n",
      "           0       0.93      0.76      0.84     11988\n",
      "           1       0.46      0.77      0.57      3085\n",
      "\n",
      "    accuracy                           0.76     15073\n",
      "   macro avg       0.69      0.77      0.70     15073\n",
      "weighted avg       0.83      0.76      0.78     15073\n",
      "\n"
     ]
    }
   ],
   "source": [
    "y_pred_lgr = model_new.predict(X_test)\n",
    "print(classification_report(y_pred_lgr, y_test))"
   ]
  },
  {
   "cell_type": "markdown",
   "id": "8119ca17",
   "metadata": {},
   "source": [
    "## Decision Tree"
   ]
  },
  {
   "cell_type": "code",
   "execution_count": 39,
   "id": "7ad19e37",
   "metadata": {},
   "outputs": [
    {
     "name": "stdout",
     "output_type": "stream",
     "text": [
      "AUC Score : 0.9579742981026003 \n",
      " Best Paramaters: {'dt__criterion': 'gini', 'dt__max_depth': 10, 'dt__min_samples_leaf': 10}\n"
     ]
    }
   ],
   "source": [
    "# DecisionTree\n",
    "# Build the steps\n",
    "steps = [(\"scaler\", StandardScaler()),\n",
    "         (\"dt\", DecisionTreeClassifier())]\n",
    "pipeline = Pipeline(steps)\n",
    "\n",
    "# Create the parameter space\n",
    "paramdt2 = {\n",
    "    'dt__max_depth': [2, 3, 5, 10, 20],\n",
    "    'dt__min_samples_leaf': [5, 10, 20, 50, 100],\n",
    "    'dt__criterion': [\"gini\", \"entropy\"]\n",
    "}\n",
    "\n",
    "X_train, X_test, y_train, y_test = train_test_split(X, y, test_size=0.3, \n",
    "                                                    random_state=100)\n",
    "\n",
    "# Instantiate the grid search object\n",
    "cv = GridSearchCV(pipeline, param_grid=paramdt2)\n",
    "\n",
    "# Fit to the training data\n",
    "cv.fit(X_train, y_train)\n",
    "print(\"AUC Score :\",cv.best_score_, \"\\n\",\"Best Paramaters:\",cv.best_params_)"
   ]
  },
  {
   "cell_type": "code",
   "execution_count": 40,
   "id": "d9a27cdc",
   "metadata": {
    "scrolled": true
   },
   "outputs": [
    {
     "name": "stdout",
     "output_type": "stream",
     "text": [
      "AUC Score : 0.9495862735086847 \n",
      " Best Paramaters: {'dt__class_weight': 'balanced', 'dt__min_samples_split': 50, 'dt__splitter': 'best'}\n"
     ]
    }
   ],
   "source": [
    "# Decision Tree Param2 \n",
    "# Create the parameter space\n",
    "paramdt2 = {\n",
    "    'dt__splitter': [\"best\", \"random\"],\n",
    "    'dt__min_samples_split': [5, 10, 20, 50, 100],\n",
    "    'dt__class_weight': [dict, \"balanced\"]\n",
    "}\n",
    "\n",
    "X_train, X_test, y_train, y_test = train_test_split(X, y, test_size=0.3, \n",
    "                                                    random_state=100)\n",
    "\n",
    "# Instantiate the grid search object\n",
    "cv = GridSearchCV(pipeline, param_grid=paramdt2)\n",
    "\n",
    "# Fit to the training data\n",
    "cv.fit(X_train, y_train)\n",
    "print(\"AUC Score :\",cv.best_score_, \"\\n\",\"Best Paramaters:\",cv.best_params_)"
   ]
  },
  {
   "cell_type": "code",
   "execution_count": 41,
   "id": "313823ef",
   "metadata": {},
   "outputs": [
    {
     "name": "stdout",
     "output_type": "stream",
     "text": [
      "AUC Score : 0.9275214158558169 \n",
      " Best Paramaters: {'dt__max_features': 'sqrt', 'dt__min_weight_fraction_leaf': 0.0}\n"
     ]
    }
   ],
   "source": [
    "# Decision Tree Params 3\n",
    "# Create the parameter space\n",
    "paramdt3 = {\n",
    "    'dt__max_features': [\"auto\", \"sqrt\", \"log2\"],\n",
    "    'dt__min_weight_fraction_leaf': np.arange(0, 0.5),\n",
    "  \n",
    "}\n",
    "\n",
    "X_train, X_test, y_train, y_test = train_test_split(X, y, test_size=0.3, \n",
    "                                                    random_state=100)\n",
    "\n",
    "# Instantiate the grid search object\n",
    "cv = GridSearchCV(pipeline, param_grid=paramdt3)\n",
    "\n",
    "# Fit to the training data\n",
    "cv.fit(X_train, y_train)\n",
    "print(\"AUC Score :\",cv.best_score_, \"\\n\",\"Best Paramaters:\",cv.best_params_)"
   ]
  },
  {
   "cell_type": "code",
   "execution_count": 42,
   "id": "638d1676",
   "metadata": {
    "scrolled": true
   },
   "outputs": [
    {
     "data": {
      "text/plain": [
       "0.9608571618125125"
      ]
     },
     "execution_count": 42,
     "metadata": {},
     "output_type": "execute_result"
    }
   ],
   "source": [
    "model_new2 = DecisionTreeClassifier(criterion = 'gini', max_depth = 10, min_samples_leaf = 10)\n",
    "model_new2.fit(X_train, y_train)\n",
    "model_new2.predict(X_test)\n",
    "model_new2.score(X_test, y_test)"
   ]
  },
  {
   "cell_type": "code",
   "execution_count": 43,
   "id": "24c174df",
   "metadata": {},
   "outputs": [
    {
     "name": "stdout",
     "output_type": "stream",
     "text": [
      "              precision    recall  f1-score   support\n",
      "\n",
      "           0       0.98      0.96      0.97     10064\n",
      "           1       0.92      0.96      0.94      5009\n",
      "\n",
      "    accuracy                           0.96     15073\n",
      "   macro avg       0.95      0.96      0.96     15073\n",
      "weighted avg       0.96      0.96      0.96     15073\n",
      "\n"
     ]
    }
   ],
   "source": [
    "y_pred_dt = model_new2.predict(X_test)\n",
    "print(classification_report(y_pred_dt, y_test))"
   ]
  },
  {
   "cell_type": "markdown",
   "id": "00cb16d9",
   "metadata": {},
   "source": [
    "## Random Forest"
   ]
  },
  {
   "cell_type": "code",
   "execution_count": 44,
   "id": "b1757885",
   "metadata": {},
   "outputs": [
    {
     "name": "stdout",
     "output_type": "stream",
     "text": [
      "AUC Score : 0.9595950622478757 \n",
      " Best Paramaters: {'rfc__criterion': 'entropy', 'rfc__max_depth': 20, 'rfc__min_samples_leaf': 5}\n"
     ]
    }
   ],
   "source": [
    "# Random Forest\n",
    "# Build the steps\n",
    "steps = [(\"scaler\", StandardScaler()),\n",
    "         (\"rfc\", RandomForestClassifier())]\n",
    "pipeline = Pipeline(steps)\n",
    "\n",
    "# Create the parameter space\n",
    "params1 = {\n",
    "    'rfc__max_depth': [2, 3, 5, 10, 20],\n",
    "    'rfc__min_samples_leaf': [5, 10, 20, 50, 100],\n",
    "    'rfc__criterion': [\"gini\", \"entropy\"]\n",
    "}\n",
    "\n",
    "X_train, X_test, y_train, y_test = train_test_split(X, y, test_size=0.3, \n",
    "                                                    random_state=100)\n",
    "\n",
    "# Instantiate the grid search object\n",
    "cv = GridSearchCV(pipeline, param_grid=params1)\n",
    "\n",
    "# Fit to the training data\n",
    "cv.fit(X_train, y_train)\n",
    "print(\"AUC Score :\",cv.best_score_, \"\\n\",\"Best Paramaters:\",cv.best_params_)"
   ]
  },
  {
   "cell_type": "code",
   "execution_count": 45,
   "id": "e6af140d",
   "metadata": {},
   "outputs": [
    {
     "name": "stdout",
     "output_type": "stream",
     "text": [
      "AUC Score : 0.9597088198003636 \n",
      " Best Paramaters: {'rfc__bootstrap': True, 'rfc__max_features': 'log2', 'rfc__oob_score': False}\n"
     ]
    }
   ],
   "source": [
    "# Create the parameter space\n",
    "params1 = {\n",
    "    'rfc__max_features': [\"sqrt\", \"log2\", \"auto\", None],\n",
    "    'rfc__bootstrap': [True, False],\n",
    "    'rfc__oob_score': [True, False]\n",
    "}\n",
    "\n",
    "X_train, X_test, y_train, y_test = train_test_split(X, y, test_size=0.3, \n",
    "                                                    random_state=100)\n",
    "\n",
    "# Instantiate the grid search object\n",
    "cv = GridSearchCV(pipeline, param_grid=params1)\n",
    "\n",
    "# Fit to the training data\n",
    "cv.fit(X_train, y_train)\n",
    "print(\"AUC Score :\",cv.best_score_, \"\\n\",\"Best Paramaters:\",cv.best_params_)"
   ]
  },
  {
   "cell_type": "code",
   "execution_count": 46,
   "id": "e1428f8e",
   "metadata": {},
   "outputs": [
    {
     "name": "stdout",
     "output_type": "stream",
     "text": [
      "AUC Score : 0.9593675835284982 \n",
      " Best Paramaters: {'rfc__class_weight': 'balanced_subsample', 'rfc__warm_start': False}\n"
     ]
    }
   ],
   "source": [
    "# Create the parameter space\n",
    "params1 = {\n",
    "    'rfc__warm_start': [True, False],\n",
    "    'rfc__class_weight': [\"balanced\", \"balanced_subsample\"]\n",
    "}\n",
    "\n",
    "X_train, X_test, y_train, y_test = train_test_split(X, y, test_size=0.3, \n",
    "                                                    random_state=100)\n",
    "\n",
    "# Instantiate the grid search object\n",
    "cv = GridSearchCV(pipeline, param_grid=params1)\n",
    "\n",
    "# Fit to the training data\n",
    "cv.fit(X_train, y_train)\n",
    "print(\"AUC Score :\",cv.best_score_, \"\\n\",\"Best Paramaters:\",cv.best_params_)"
   ]
  },
  {
   "cell_type": "code",
   "execution_count": 47,
   "id": "90c4befb",
   "metadata": {},
   "outputs": [
    {
     "data": {
      "text/plain": [
       "0.9615205997478936"
      ]
     },
     "execution_count": 47,
     "metadata": {},
     "output_type": "execute_result"
    }
   ],
   "source": [
    "model_new3 = RandomForestClassifier(criterion = 'gini', max_depth = 20, min_samples_leaf = 5, bootstrap = True,\n",
    "                                   max_features = 'auto')\n",
    "model_new3.fit(X_train, y_train)\n",
    "model_new3.predict(X_test)\n",
    "model_new3.score(X_test, y_test)"
   ]
  },
  {
   "cell_type": "code",
   "execution_count": 48,
   "id": "d7d6c4cb",
   "metadata": {},
   "outputs": [
    {
     "name": "stdout",
     "output_type": "stream",
     "text": [
      "              precision    recall  f1-score   support\n",
      "\n",
      "           0       0.98      0.96      0.97     10060\n",
      "           1       0.93      0.96      0.94      5013\n",
      "\n",
      "    accuracy                           0.96     15073\n",
      "   macro avg       0.95      0.96      0.96     15073\n",
      "weighted avg       0.96      0.96      0.96     15073\n",
      "\n"
     ]
    }
   ],
   "source": [
    "y_pred_dt = model_new3.predict(X_test)\n",
    "print(classification_report(y_pred_dt, y_test))"
   ]
  },
  {
   "cell_type": "code",
   "execution_count": 49,
   "id": "bd803dfc",
   "metadata": {},
   "outputs": [
    {
     "data": {
      "image/png": "[encoded data removed]",
      "text/plain": [
       "<Figure size 864x432 with 1 Axes>"
      ]
     },
     "metadata": {
      "needs_background": "light"
     },
     "output_type": "display_data"
    }
   ],
   "source": [
    "plt.figure(figsize = (12,6), linewidth= 1)\n",
    "y_logreg = model_new.predict_proba(X_test)[:,1]\n",
    "fpr_rf, tpr_rf, thresholds = roc_curve(y_test, y_logreg)\n",
    "plt.plot(fpr_rf, tpr_rf, label='Logistic Regression',color = \"r\")\n",
    "y_dt = model_new2.predict_proba(X_test)[:,1]\n",
    "fpr_rf, tpr_rf, thresholds = roc_curve(y_test, y_dt)\n",
    "plt.plot(fpr_rf, tpr_rf, label='Decision Tree Regression',color = \"b\")\n",
    "y_rf = model_new3.predict_proba(X_test)[:,1]\n",
    "fpr_rf, tpr_rf, thresholds = roc_curve(y_test, y_rf)\n",
    "plt.plot(fpr_rf, tpr_rf, label='Random Forest Regression',color = \"y\")\n",
    "plt.plot([0, 1], [0, 1], 'k--' )\n",
    "plt.xlabel('False Positive Rate')\n",
    "plt.ylabel('True Positive Rate')\n",
    "plt.title('ROC Curve',fontsize=16)\n",
    "plt.legend(loc='best')\n",
    "plt.show()\n",
    "# plt.plot(fpr_log_primal, tpr_log_primal, label = 'Logistic Regression: ' + str(round(roc_auc_rf, 5)))\n",
    "# plt.plot(fpr_log_pol2, tpr_log_pol2, label = 'log pol2 score: ' + str(round(auc_log_pol2, 5)))\n",
    "# plt.plot(fpr_SVM_RBF, tpr_SVM_RBF, label = 'SVM RBF Score: ' + str(round(auc_SVM_RBF, 5)))\n",
    "# plt.plot(fpr_SVM_POL, tpr_SVM_POL, label = 'SVM POL Score: ' + str(round(auc_SVM_POL, 5)))\n",
    "# plt.plot(fpr_RF, tpr_RF, label = 'RF score: ' + str(round(auc_RF, 5)))\n",
    "# plt.plot(fpr_XGB, tpr_XGB, label = 'XGB score: ' + str(round(auc_XGB, 5)))\n",
    "# plt.plot([0,1], [0,1], 'k--', label = 'Random: 0.5')\n",
    "# plt.xlabel('False positive rate')\n",
    "# plt.ylabel('True positive rate')\n",
    "# plt.title('ROC Curve')\n",
    "# plt.legend(loc='best')\n",
    "# #plt.savefig('roc_results_ratios.png')\n",
    "# plt.show()"
   ]
  },
  {
   "cell_type": "markdown",
   "id": "b94e2901",
   "metadata": {},
   "source": [
    "# Another Modelling (Tanpa RFM)"
   ]
  },
  {
   "cell_type": "code",
   "execution_count": 50,
   "id": "d76721db",
   "metadata": {},
   "outputs": [],
   "source": [
    "import pandas as pd\n",
    "import numpy as np\n",
    "import matplotlib.pyplot as plt\n",
    "import seaborn as sns\n",
    "plt.style.use('fivethirtyeight')\n",
    "import warnings\n",
    "warnings.filterwarnings('ignore')\n",
    "%matplotlib inline"
   ]
  },
  {
   "cell_type": "code",
   "execution_count": 51,
   "id": "8a6066a1",
   "metadata": {
    "scrolled": true
   },
   "outputs": [
    {
     "name": "stdout",
     "output_type": "stream",
     "text": [
      "Requirement already satisfied: lightgbm in c:\\users\\ertit\\anaconda3\\lib\\site-packages (3.3.3)\n",
      "Requirement already satisfied: wheel in c:\\users\\ertit\\anaconda3\\lib\\site-packages (from lightgbm) (0.37.1)\n",
      "Requirement already satisfied: scipy in c:\\users\\ertit\\anaconda3\\lib\\site-packages (from lightgbm) (1.7.3)\n",
      "Requirement already satisfied: numpy in c:\\users\\ertit\\anaconda3\\lib\\site-packages (from lightgbm) (1.21.5)\n",
      "Requirement already satisfied: scikit-learn!=0.22.0 in c:\\users\\ertit\\anaconda3\\lib\\site-packages (from lightgbm) (1.0.2)\n",
      "Requirement already satisfied: joblib>=0.11 in c:\\users\\ertit\\anaconda3\\lib\\site-packages (from scikit-learn!=0.22.0->lightgbm) (1.1.0)\n",
      "Requirement already satisfied: threadpoolctl>=2.0.0 in c:\\users\\ertit\\anaconda3\\lib\\site-packages (from scikit-learn!=0.22.0->lightgbm) (2.2.0)\n"
     ]
    }
   ],
   "source": [
    "!pip install lightgbm"
   ]
  },
  {
   "cell_type": "code",
   "execution_count": 52,
   "id": "0c6e9f44",
   "metadata": {},
   "outputs": [
    {
     "name": "stdout",
     "output_type": "stream",
     "text": [
      "Requirement already satisfied: catboost in c:\\users\\ertit\\anaconda3\\lib\\site-packages (1.1.1)\n",
      "Requirement already satisfied: plotly in c:\\users\\ertit\\anaconda3\\lib\\site-packages (from catboost) (5.6.0)\n",
      "Requirement already satisfied: numpy>=1.16.0 in c:\\users\\ertit\\anaconda3\\lib\\site-packages (from catboost) (1.21.5)\n",
      "Requirement already satisfied: scipy in c:\\users\\ertit\\anaconda3\\lib\\site-packages (from catboost) (1.7.3)\n",
      "Requirement already satisfied: graphviz in c:\\users\\ertit\\anaconda3\\lib\\site-packages (from catboost) (0.20.1)\n",
      "Requirement already satisfied: six in c:\\users\\ertit\\anaconda3\\lib\\site-packages (from catboost) (1.16.0)\n",
      "Requirement already satisfied: pandas>=0.24.0 in c:\\users\\ertit\\anaconda3\\lib\\site-packages (from catboost) (1.4.2)\n",
      "Requirement already satisfied: matplotlib in c:\\users\\ertit\\anaconda3\\lib\\site-packages (from catboost) (3.5.1)\n",
      "Requirement already satisfied: python-dateutil>=2.8.1 in c:\\users\\ertit\\anaconda3\\lib\\site-packages (from pandas>=0.24.0->catboost) (2.8.2)\n",
      "Requirement already satisfied: pytz>=2020.1 in c:\\users\\ertit\\anaconda3\\lib\\site-packages (from pandas>=0.24.0->catboost) (2021.3)\n",
      "Requirement already satisfied: pillow>=6.2.0 in c:\\users\\ertit\\anaconda3\\lib\\site-packages (from matplotlib->catboost) (9.0.1)\n",
      "Requirement already satisfied: pyparsing>=2.2.1 in c:\\users\\ertit\\anaconda3\\lib\\site-packages (from matplotlib->catboost) (3.0.4)\n",
      "Requirement already satisfied: kiwisolver>=1.0.1 in c:\\users\\ertit\\anaconda3\\lib\\site-packages (from matplotlib->catboost) (1.3.2)\n",
      "Requirement already satisfied: packaging>=20.0 in c:\\users\\ertit\\anaconda3\\lib\\site-packages (from matplotlib->catboost) (21.3)\n",
      "Requirement already satisfied: cycler>=0.10 in c:\\users\\ertit\\anaconda3\\lib\\site-packages (from matplotlib->catboost) (0.11.0)\n",
      "Requirement already satisfied: fonttools>=4.22.0 in c:\\users\\ertit\\anaconda3\\lib\\site-packages (from matplotlib->catboost) (4.25.0)\n",
      "Requirement already satisfied: tenacity>=6.2.0 in c:\\users\\ertit\\anaconda3\\lib\\site-packages (from plotly->catboost) (8.0.1)\n"
     ]
    }
   ],
   "source": [
    "!pip install catboost"
   ]
  },
  {
   "cell_type": "code",
   "execution_count": 53,
   "id": "18547ed1",
   "metadata": {},
   "outputs": [],
   "source": [
    "# from sklearn.model_selection import train_test_split\n",
    "# from sklearn.metrics import accuracy_score, confusion_matrix,precision_score,recall_score,roc_auc_score,f1_score,plot_confusion_matrix,plot_roc_curve,roc_curve\n",
    "# from sklearn.linear_model import LogisticRegression\n",
    "# from sklearn.tree import DecisionTreeClassifier\n",
    "# from sklearn.svm import SVC\n",
    "\n",
    "# from xgboost import XGBClassifier\n",
    "# from lightgbm import LGBMClassifier\n",
    "# from catboost import CatBoostClassifier\n",
    "# from sklearn import svm\n",
    "# from sklearn.ensemble import RandomForestClassifier\n",
    "# from sklearn.neighbors import KNeighborsClassifier\n"
   ]
  },
  {
   "cell_type": "code",
   "execution_count": 54,
   "id": "2f66a356",
   "metadata": {},
   "outputs": [],
   "source": [
    "X = final_dataset[['customer_id', 'most_recent', 'payment_method', 'payment_status', 'promo_amount', \n",
    "                 'quantity', 'transaction_amount', 'age', 'promo_amount_used', 'total_amount_paid']]\n",
    "y = final_dataset['is_churn']\n",
    "# X = dataset2[['customer_id', 'payment_method', 'payment_status', 'promo_amount', \n",
    "#                  'quantity', 'age']]\n",
    "# y = dataset2['is_churn']"
   ]
  },
  {
   "cell_type": "code",
   "execution_count": 55,
   "id": "f3b2e582",
   "metadata": {},
   "outputs": [],
   "source": [
    "X_train, X_test, y_train, y_test = train_test_split(X,y, test_size=0.3, random_state=100)"
   ]
  },
  {
   "cell_type": "code",
   "execution_count": 56,
   "id": "0acad08a",
   "metadata": {},
   "outputs": [
    {
     "name": "stdout",
     "output_type": "stream",
     "text": [
      "Jumlah data training:  (35169, 10)\n",
      "Jumlah data testing:  (15073, 10)\n"
     ]
    }
   ],
   "source": [
    "print(\"Jumlah data training: \", X_train.shape)\n",
    "print(\"Jumlah data testing: \", X_test.shape)"
   ]
  },
  {
   "cell_type": "code",
   "execution_count": 57,
   "id": "de95b306",
   "metadata": {},
   "outputs": [],
   "source": [
    "classifiers = {\n",
    "    \"LogisticRegression\" : LogisticRegression(),\n",
    "    \"DecisionTree\" : DecisionTreeClassifier(),\n",
    "    \"RandomForest\" : RandomForestClassifier(),\n",
    "#   \"KNeighbors\" : KNeighborsClassifier(),\n",
    "#     \"XGBoost\" : XGBClassifier(max_depth=12,\n",
    "#                               n_estimators=250,\n",
    "#                               min_child_weight=8, \n",
    "#                               subsample=0.8, \n",
    "#                               learning_rate =0.02,    \n",
    "#                               seed=42),\n",
    "#     \"CatBoost\" : CatBoostClassifier(iterations=250,\n",
    "#                            learning_rate=0.2,\n",
    "#                            od_type='Iter',\n",
    "#                            verbose=25,\n",
    "#                            depth=16,\n",
    "#                            random_seed=42)\n",
    " }"
   ]
  },
  {
   "cell_type": "code",
   "execution_count": 58,
   "id": "01ee1c8d",
   "metadata": {},
   "outputs": [],
   "source": [
    "result_table = pd.DataFrame(columns=['classifiers','accuracy','presicion','recall','f1_score','fpr','tpr','auc'])\n",
    "\n",
    "y_test = y_test.astype(int)"
   ]
  },
  {
   "cell_type": "code",
   "execution_count": 59,
   "id": "d2d79c8c",
   "metadata": {},
   "outputs": [],
   "source": [
    "for key, classifier in classifiers.items():\n",
    "    classifier.fit(X_train, y_train)\n",
    "    y_predict = classifier.predict(X_test)\n",
    "    \n",
    "    yproba = classifier.predict_proba(X_test)[::,1]\n",
    "    \n",
    "    fpr, tpr, _ = roc_curve(y_test,  yproba)\n",
    "    auc = roc_auc_score(y_test, yproba)\n",
    "    \n",
    "    conf_matrix = confusion_matrix(y_test,y_predict)\n",
    "    \n",
    "    result_table = result_table.append({'classifiers':key,\n",
    "                                        'accuracy':accuracy_score(y_test, y_predict),\n",
    "                                        'presicion':precision_score(y_test, y_predict, average='weighted'),\n",
    "                                        'recall':recall_score(y_test, y_predict, average='weighted'),\n",
    "                                        'f1_score':f1_score(y_test, y_predict, average='weighted'),\n",
    "                                        'fpr':fpr, \n",
    "                                        'tpr':tpr, \n",
    "                                        'auc':auc\n",
    "                                         }, ignore_index=True)\n",
    "        \n",
    "result_table.set_index('classifiers', inplace=True)"
   ]
  },
  {
   "cell_type": "code",
   "execution_count": 60,
   "id": "ec7922ed",
   "metadata": {},
   "outputs": [
    {
     "data": {
      "image/png": "[encoded data removed]",
      "text/plain": [
       "<Figure size 1440x720 with 6 Axes>"
      ]
     },
     "metadata": {
      "needs_background": "light"
     },
     "output_type": "display_data"
    }
   ],
   "source": [
    "fig, axes = plt.subplots(nrows=1, ncols=3, figsize=(20,10))\n",
    "\n",
    "for cls, ax in zip(list(classifiers.values()), axes.flatten()):\n",
    "    plot_confusion_matrix(cls, \n",
    "                          X_test, \n",
    "                          y_test, \n",
    "                          ax=ax, \n",
    "                          cmap='Oranges')\n",
    "    ax.title.set_text(type(cls).__name__)\n",
    "plt.tight_layout()  \n",
    "plt.show()"
   ]
  },
  {
   "cell_type": "code",
   "execution_count": 61,
   "id": "12c8f09b",
   "metadata": {
    "scrolled": true
   },
   "outputs": [
    {
     "data": {
      "text/html": [
       "<div>\n",
       "<style scoped>\n",
       "    .dataframe tbody tr th:only-of-type {\n",
       "        vertical-align: middle;\n",
       "    }\n",
       "\n",
       "    .dataframe tbody tr th {\n",
       "        vertical-align: top;\n",
       "    }\n",
       "\n",
       "    .dataframe thead th {\n",
       "        text-align: right;\n",
       "    }\n",
       "</style>\n",
       "<table border=\"1\" class=\"dataframe\">\n",
       "  <thead>\n",
       "    <tr style=\"text-align: right;\">\n",
       "      <th></th>\n",
       "      <th>accuracy</th>\n",
       "      <th>presicion</th>\n",
       "      <th>recall</th>\n",
       "      <th>f1_score</th>\n",
       "    </tr>\n",
       "    <tr>\n",
       "      <th>classifiers</th>\n",
       "      <th></th>\n",
       "      <th></th>\n",
       "      <th></th>\n",
       "      <th></th>\n",
       "    </tr>\n",
       "  </thead>\n",
       "  <tbody>\n",
       "    <tr>\n",
       "      <th>LogisticRegression</th>\n",
       "      <td>0.651164</td>\n",
       "      <td>0.597852</td>\n",
       "      <td>0.651164</td>\n",
       "      <td>0.559364</td>\n",
       "    </tr>\n",
       "    <tr>\n",
       "      <th>DecisionTree</th>\n",
       "      <td>0.598686</td>\n",
       "      <td>0.599829</td>\n",
       "      <td>0.598686</td>\n",
       "      <td>0.599248</td>\n",
       "    </tr>\n",
       "    <tr>\n",
       "      <th>RandomForest</th>\n",
       "      <td>0.643336</td>\n",
       "      <td>0.612602</td>\n",
       "      <td>0.643336</td>\n",
       "      <td>0.614008</td>\n",
       "    </tr>\n",
       "  </tbody>\n",
       "</table>\n",
       "</div>"
      ],
      "text/plain": [
       "                    accuracy presicion    recall  f1_score\n",
       "classifiers                                               \n",
       "LogisticRegression  0.651164  0.597852  0.651164  0.559364\n",
       "DecisionTree        0.598686  0.599829  0.598686  0.599248\n",
       "RandomForest        0.643336  0.612602  0.643336  0.614008"
      ]
     },
     "execution_count": 61,
     "metadata": {},
     "output_type": "execute_result"
    }
   ],
   "source": [
    "result_table.iloc[:,:4]"
   ]
  },
  {
   "cell_type": "code",
   "execution_count": 62,
   "id": "df9545b5",
   "metadata": {},
   "outputs": [
    {
     "data": {
      "image/png": "[encoded data removed]",
      "text/plain": [
       "<Figure size 576x432 with 1 Axes>"
      ]
     },
     "metadata": {
      "needs_background": "light"
     },
     "output_type": "display_data"
    }
   ],
   "source": [
    "fig = plt.figure(figsize=(8,6))\n",
    "\n",
    "for i in result_table.index:\n",
    "    plt.plot(result_table.loc[i]['fpr'], \n",
    "             result_table.loc[i]['tpr'], \n",
    "             label=\"{}, AUC={:.3f}\".format(i, result_table.loc[i]['auc']))\n",
    "    \n",
    "plt.plot([0,1], [0,1], color='orange', linestyle='--')\n",
    "\n",
    "plt.xticks(np.arange(0.0, 1.1, step=0.1))\n",
    "plt.xlabel(\"False Positive Rate\", fontsize=15)\n",
    "\n",
    "plt.yticks(np.arange(0.0, 1.1, step=0.1))\n",
    "plt.ylabel(\"True Positive Rate\", fontsize=15)\n",
    "\n",
    "plt.title('ROC Curve Analysis', fontweight='bold', fontsize=15)\n",
    "plt.legend(prop={'size':13}, loc='lower right')\n",
    "\n",
    "plt.show()"
   ]
  },
  {
   "cell_type": "code",
   "execution_count": null,
   "id": "f85e7a52",
   "metadata": {},
   "outputs": [],
   "source": []
  }
 ],
 "metadata": {
  "kernelspec": {
   "display_name": "Python 3 (ipykernel)",
   "language": "python",
   "name": "python3"
  },
  "language_info": {
   "codemirror_mode": {
    "name": "ipython",
    "version": 3
   },
   "file_extension": ".py",
   "mimetype": "text/x-python",
   "name": "python",
   "nbconvert_exporter": "python",
   "pygments_lexer": "ipython3",
   "version": "3.9.12"
  }
 },
 "nbformat": 4,
 "nbformat_minor": 5
}
